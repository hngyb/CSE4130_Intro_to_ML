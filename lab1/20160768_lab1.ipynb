{
 "cells": [
  {
   "cell_type": "markdown",
   "id": "radio-assembly",
   "metadata": {},
   "source": [
    "# 연습문제\n",
    "\n",
    "\n",
    "## numpy\n",
    "\n",
    "python에서 array등을 다루는 수학/과학 컴퓨팅을 하기 위한 패키지\n",
    "\n",
    "## matplotlib\n",
    "\n",
    "python에서 matlab과 유사한 그래프 표시를 가능하게 하는 패키지"
   ]
  },
  {
   "cell_type": "code",
   "execution_count": null,
   "id": "peripheral-cancer",
   "metadata": {},
   "outputs": [],
   "source": [
    "# Cell 클릭 후 Shift+Enter로 실행 (Comment는 #으로 시작)\n",
    "\n",
    "# Install necessary packages\n",
    "# !pip install numpy\n",
    "# !pip install matplotlib"
   ]
  },
  {
   "cell_type": "markdown",
   "id": "laden-story",
   "metadata": {},
   "source": [
    "## numpy\n",
    "(본 cell은 markdown 형식으로, 더블클릭/Enter로 들어가고 Shift+Enter로 나갈 수 있다. 주석 용으로 사용.)  \n",
    "\n",
    "python에서 과학 컴퓨팅을 하기 위해 사용하는 패키지로 python 라이브러리로 Import 하여 사용."
   ]
  },
  {
   "cell_type": "code",
   "execution_count": null,
   "id": "practical-disclosure",
   "metadata": {},
   "outputs": [],
   "source": [
    "# 패키지 사용을 위한 약자 지정\n",
    "\n",
    "import numpy as np\n",
    "import matplotlib.pyplot as plt\n",
    "\n",
    "%matplotlib inline"
   ]
  },
  {
   "cell_type": "markdown",
   "id": "arranged-chassis",
   "metadata": {},
   "source": [
    "# Lab_1: Perceptron\n",
    "---\n",
    "Perceptron 알고리즘 구현하기\n",
    "아래 이름, 학번을 작성하세요."
   ]
  },
  {
   "cell_type": "code",
   "execution_count": null,
   "id": "chubby-architect",
   "metadata": {},
   "outputs": [],
   "source": [
    "lab1_student_id = '20160768'\n",
    "lab1_student_name = '김홍엽'"
   ]
  },
  {
   "cell_type": "markdown",
   "id": "legal-sampling",
   "metadata": {},
   "source": [
    "## Practice 1\n",
    "\n",
    "아래의 train_perceptron 알고리즘을 구현하시오."
   ]
  },
  {
   "cell_type": "markdown",
   "id": "unable-allowance",
   "metadata": {},
   "source": [
    "```np.random.seed``` \n",
    "\n",
    "random number(난수) 발생을 위한 조건 설정. 괄호 안의 숫자에 따라 난수 생성 방식이 다르게 고정됨\n",
    "\n",
    "(https://docs.scipy.org/doc/numpy-1.15.0/reference/generated/numpy.random.seed.html)\n",
    "\n"
   ]
  },
  {
   "cell_type": "code",
   "execution_count": null,
   "id": "exact-cassette",
   "metadata": {},
   "outputs": [],
   "source": [
    "# Do not change\n",
    "np.random.seed(5)"
   ]
  },
  {
   "cell_type": "markdown",
   "id": "industrial-conviction",
   "metadata": {},
   "source": [
    "```np.random.multivariate_normal```\n",
    "\n",
    "multivariate normal distribution 으로부터 random sample 을 추출\n",
    "\n",
    "https://numpy.org/doc/stable/reference/random/generated/numpy.random.multivariate_normal.html"
   ]
  },
  {
   "cell_type": "code",
   "execution_count": null,
   "id": "olive-attitude",
   "metadata": {},
   "outputs": [],
   "source": [
    "num_data = 20\n",
    "\n",
    "# feature dataset\n",
    "\n",
    "class_zeros = np.random.multivariate_normal(mean=[0, 0],\n",
    "                                            cov=[[1., .95], [.95, 1.]],\n",
    "                                            size=num_data)\n",
    "class_ones = np.random.multivariate_normal(mean=[1, 5],\n",
    "                                           cov=[[1., .85], [.85, 1.]],\n",
    "                                           size=num_data)\n",
    "\n",
    "print(f'class_zeros: \\n{class_zeros} \\nclass_ones: \\n{class_ones}')"
   ]
  },
  {
   "cell_type": "markdown",
   "id": "fewer-diamond",
   "metadata": {},
   "source": [
    "```np.vstack, np.hstack```\n",
    "\n",
    "배열을 각각 vertically, horizontally stacking 함\n",
    "\n",
    "\n",
    "https://numpy.org/doc/stable/reference/generated/numpy.vstack.html?highlight=vstack#numpy.vstack\n",
    "\n",
    "https://numpy.org/doc/stable/reference/generated/numpy.hstack.html?highlight=hstack#numpy.hstack"
   ]
  },
  {
   "cell_type": "code",
   "execution_count": null,
   "id": "identical-presence",
   "metadata": {},
   "outputs": [],
   "source": [
    "biases = np.ones((2 * num_data, 1))\n",
    "\n",
    "class_data = np.vstack((class_zeros, class_ones)).astype(np.float32)\n",
    "\n",
    "features = np.hstack((biases, class_data))\n",
    "\n",
    "print(\n",
    "    f'biases: \\n{biases} \\nclass_data: \\n{class_data} \\nfeatures: \\n{features}'\n",
    ")\n",
    "print(\n",
    "    f'biases.shape: \\n{biases.shape} \\nclass_data.shape: \\n{class_data.shape} \\\n",
    "\\nfeatures.shape: \\n{features.shape}')"
   ]
  },
  {
   "cell_type": "code",
   "execution_count": null,
   "id": "statistical-passenger",
   "metadata": {},
   "outputs": [],
   "source": [
    "# Label dataset\n",
    "\n",
    "label_zeros = np.zeros((num_data, 1))\n",
    "label_ones = np.ones((num_data, 1))\n",
    "\n",
    "labels = np.vstack((label_zeros, label_ones))\n",
    "dataset = np.hstack((features, labels))\n",
    "\n",
    "print(f'labels: \\n{labels} \\ndataset: \\n{dataset}')"
   ]
  },
  {
   "cell_type": "code",
   "execution_count": null,
   "id": "crucial-fever",
   "metadata": {},
   "outputs": [],
   "source": [
    "plt.scatter(features[:, 1][:num_data],\n",
    "            features[:, 2][:num_data],\n",
    "            c='r',\n",
    "            label='0')\n",
    "plt.scatter(features[:, 1][num_data:],\n",
    "            features[:, 2][num_data:],\n",
    "            c='b',\n",
    "            label='1')\n",
    "\n",
    "plt.legend()\n",
    "plt.show()"
   ]
  },
  {
   "cell_type": "code",
   "execution_count": null,
   "id": "billion-gender",
   "metadata": {},
   "outputs": [],
   "source": [
    "# dataset shuffling\n",
    "np.random.shuffle(dataset)\n",
    "\n",
    "split_ratio = 0.7\n",
    "\n",
    "# splitting dataset\n",
    "train = dataset[0:int(split_ratio * (num_data * 2))]\n",
    "test = dataset[int(split_ratio * (num_data * 2)):(num_data * 2)]\n",
    "\n",
    "print(train.shape, test.shape)"
   ]
  },
  {
   "cell_type": "code",
   "execution_count": null,
   "id": "inner-possible",
   "metadata": {},
   "outputs": [],
   "source": [
    "# reshaping data\n",
    "x_train = train[:, 0:3]\n",
    "y_train = train[:, 3]\n",
    "\n",
    "x_test = test[:, 0:3]\n",
    "y_test = test[:, 3]\n",
    "\n",
    "print(x_train.shape, y_train.shape)\n",
    "print(x_test.shape, y_test.shape)"
   ]
  },
  {
   "cell_type": "code",
   "execution_count": null,
   "id": "piano-panel",
   "metadata": {},
   "outputs": [],
   "source": [
    "print(x_train[0])\n",
    "print(y_train[0])"
   ]
  },
  {
   "cell_type": "code",
   "execution_count": null,
   "id": "floating-convention",
   "metadata": {},
   "outputs": [],
   "source": [
    "# Todo: practice 1\n",
    "def train_perceptron(w, x, y, epoch=30):\n",
    "    for _ in range(epoch):\n",
    "        for i in range(len(x)):\n",
    "            y_pre = 1 if np.dot(w, x[i]) >= 0 else 0  # wx의 값이 0 이상이면 1, 아니면 0으로 predict\n",
    "            if y[i] != y_pre:  # misclassified sample에 대하여\n",
    "                w = w + (y[i] - y_pre) * x[i]  # w에 (y[i] - y_pre) * x[i]의 값을 더함으로써 w를 update\n",
    "    return w\n",
    "\n",
    "# single sample 업데이트가 배치 사이즈 업데이트보다 더 빠르게 정답에 근접하게 됨. (한 에폭 내에서도 여러번 업데이트를 해줌)"
   ]
  },
  {
   "cell_type": "code",
   "execution_count": null,
   "id": "massive-update",
   "metadata": {},
   "outputs": [],
   "source": [
    "def train_perceptron_ans(w,x,y,epoch=30):\n",
    "    # y : 0, 1 --> -1, 1 (y = y+ y-1)\n",
    "    \n",
    "    for _ in range(epoch):\n",
    "        # y   wx       ywx\n",
    "        # 1    1         1\n",
    "        # 1   -1: error -1\n",
    "        # -1   1: error -1\n",
    "        # -1  -1: error  1\n",
    "        w += np.dot(y2*((y2 *np.dot(x,w))<0),x)\n",
    "        \n",
    "    return w\n",
    "# batch 방식 업데이트: 한 에폭에서 한 번 업데이트라 정답 찾는 속도가 느림"
   ]
  },
  {
   "cell_type": "code",
   "execution_count": null,
   "id": "noticed-slovak",
   "metadata": {},
   "outputs": [],
   "source": [
    "# w 와 x1 을 이용해 x2 값을 구함\n",
    "\n",
    "\n",
    "def x2(x1, w):\n",
    "    w0 = w[0]\n",
    "    w1 = w[1]\n",
    "    w2 = w[2]\n",
    "    x2 = []\n",
    "    for i in range(len(x1 - 1)):\n",
    "        x2_temp = (-w0 - w1 * x1[i]) / w2\n",
    "        x2.append(x2_temp)\n",
    "    return x2\n",
    "\n",
    "\n",
    "# visualizaing decision boundary\n",
    "\n",
    "\n",
    "def show_plt(w, class_data, labels):\n",
    "    #   w and class_data are 2-element with no bias, and 3-element with bias\n",
    "    len_w = len(w)\n",
    "    sh_data = class_data.shape\n",
    "    if len_w != sh_data[1]:\n",
    "        print('error: w and data dimension does not match')\n",
    "        return\n",
    "\n",
    "    if len_w == 3:\n",
    "        class_data = class_data[:, 1:]\n",
    "\n",
    "    min = np.min(class_data[:, 0])\n",
    "    max = np.max(class_data[:, 0])\n",
    "\n",
    "    x1 = np.linspace(min, max, 100)\n",
    "    x1 = x1.reshape(len(x1), 1)\n",
    "    x_2 = np.asarray(x2(x1, w))\n",
    "\n",
    "    data_zeros = class_data[labels == 0]\n",
    "    data_ones = class_data[labels == 1]\n",
    "\n",
    "    plt.scatter(data_zeros[:, 0], data_zeros[:, 1], c='r', label='0')\n",
    "    plt.scatter(data_ones[:, 0], data_ones[:, 1], c='b', label='1')\n",
    "    plt.plot(x1, x_2)\n",
    "\n",
    "    plt.legend()\n",
    "    plt.show()"
   ]
  },
  {
   "cell_type": "code",
   "execution_count": null,
   "id": "limiting-stable",
   "metadata": {},
   "outputs": [],
   "source": [
    "w = np.random.rand(len(x_train[0]))\n",
    "\n",
    "show_plt(w, x_train, y_train)"
   ]
  },
  {
   "cell_type": "code",
   "execution_count": null,
   "id": "analyzed-theta",
   "metadata": {},
   "outputs": [],
   "source": [
    "w = train_perceptron(w, x_train, y_train)\n",
    "\n",
    "print(\"The weights are:\", w)\n",
    "\n",
    "# Do not change\n",
    "lab1_student_answer_w = w"
   ]
  },
  {
   "cell_type": "code",
   "execution_count": null,
   "id": "constant-category",
   "metadata": {},
   "outputs": [],
   "source": [
    "show_plt(w, x_train, y_train)"
   ]
  },
  {
   "cell_type": "code",
   "execution_count": null,
   "id": "periodic-slide",
   "metadata": {},
   "outputs": [],
   "source": [
    "show_plt(w, x_test, y_test)"
   ]
  },
  {
   "cell_type": "markdown",
   "id": "strategic-cuisine",
   "metadata": {},
   "source": [
    "## Practice 2\n",
    "\n",
    "hyperplane이 구해지는 최소 epoch를 출력할 수 있도록 train_perceptron 코드를 수정하시오."
   ]
  },
  {
   "cell_type": "code",
   "execution_count": null,
   "id": "functioning-matrix",
   "metadata": {},
   "outputs": [],
   "source": [
    "num_data = 1000\n",
    "\n",
    "class_zeros = np.random.multivariate_normal(mean=[0, 0],\n",
    "                                            cov=[[1., .95], [.95, 1.]],\n",
    "                                            size=num_data)\n",
    "class_ones = np.random.multivariate_normal(mean=[1, 5],\n",
    "                                           cov=[[1., .85], [.85, 1.]],\n",
    "                                           size=num_data)\n",
    "\n",
    "biases = np.ones((2 * num_data, 1))\n",
    "\n",
    "class_data = np.vstack((class_zeros, class_ones)).astype(np.float32)\n",
    "\n",
    "features = np.hstack((biases, class_data))\n",
    "\n",
    "label_zeros = np.zeros((num_data, 1))\n",
    "label_ones = np.ones((num_data, 1))\n",
    "\n",
    "labels = np.vstack((label_zeros, label_ones))\n",
    "dataset = np.hstack((features, labels))\n",
    "\n",
    "plt.scatter(features[:, 1][:num_data],\n",
    "            features[:, 2][:num_data],\n",
    "            c='r',\n",
    "            label='0')\n",
    "plt.scatter(features[:, 1][num_data:],\n",
    "            features[:, 2][num_data:],\n",
    "            c='b',\n",
    "            label='1')\n",
    "\n",
    "plt.legend()\n",
    "plt.show()"
   ]
  },
  {
   "cell_type": "code",
   "execution_count": null,
   "id": "yellow-artwork",
   "metadata": {},
   "outputs": [],
   "source": [
    "np.random.shuffle(dataset)\n",
    "\n",
    "split_ratio = 0.7\n",
    "\n",
    "train = dataset[0:int(split_ratio * (num_data * 2))]\n",
    "test = dataset[int(split_ratio * (num_data * 2)):(num_data * 2)]\n",
    "\n",
    "x_train = train[:, 0:3]\n",
    "y_train = train[:, 3]\n",
    "\n",
    "x_test = test[:, 0:3]\n",
    "y_test = test[:, 3]\n",
    "\n",
    "\n",
    "# Todo: practice 2\n",
    "def train_perceptron(w, x, y, epoch=30):\n",
    "    min_epoch = epoch\n",
    "    for n in range(epoch): # n은 0부터 시작이지만, epoch count는 1부터 시작\n",
    "        e = 0  # misclassified sample count를 계산하기 위한 e 변수 추가\n",
    "        for i in range(len(x)):\n",
    "            y_pre = 1 if np.dot(w, x[i]) >= 0 else 0\n",
    "            if y[i] != y_pre:  # misclassified sample에 대하여\n",
    "                w = w + (y[i] - y_pre) * x[i]  # w에 (y[i] - y_pre) * x[i]의 값을 더함으로써 w를 update\n",
    "                e += 1 # e count 1 증가\n",
    "\n",
    "        if e == 0 and min_epoch > n:\n",
    "            # misclassified sample이 없었을 경우, 그 이전의 epoch을 min_epoch으로 설정 (이전의 epoch에서 최종 hyperplane이 구해졌기 때문)\n",
    "            # min_epoch > n 조건은 min_epoch이 할당된 이후, 남은 에폭에 대해 min_epoch이 업데이트 되는 것을 막기 위함\n",
    "            min_epoch = n\n",
    "    return w, min_epoch"
   ]
  },
  {
   "cell_type": "code",
   "execution_count": null,
   "id": "nearby-compression",
   "metadata": {},
   "outputs": [],
   "source": [
    "def train_perceptron_ans(w,x,y,epoch=30):\n",
    "    y2 = y+ np.ones(len(y)) * (y-1)\n",
    "    min_epoch = epoch\n",
    "    \n",
    "    for i in range(epoch):\n",
    "        if sum(y==(np.dot(w,x) > 0)) == len(y):\n",
    "            min_epoch = i+1\n",
    "            break\n",
    "        w+=np.dot(y2 * ((y2 * np.dot(x,w)) < 0), x)\n",
    "\n",
    "    return w, min_epoch"
   ]
  },
  {
   "cell_type": "code",
   "execution_count": null,
   "id": "dominican-prefix",
   "metadata": {},
   "outputs": [],
   "source": [
    "w = np.random.rand(len(x_train[0]))\n",
    "\n",
    "show_plt(w, x_train, y_train)"
   ]
  },
  {
   "cell_type": "code",
   "execution_count": null,
   "id": "strategic-client",
   "metadata": {},
   "outputs": [],
   "source": [
    "w, min_epoch = train_perceptron(w, x_train, y_train)\n",
    "\n",
    "print(\"The weights are:\", w)\n",
    "\n",
    "# Do not change -->\n",
    "lab1_student_answer_w2 = w\n",
    "lab1_stduent_answer_min_epoch = min_epoch\n",
    "# <--\n",
    "show_plt(w, x_train, y_train)"
   ]
  },
  {
   "cell_type": "code",
   "execution_count": null,
   "id": "technical-raising",
   "metadata": {},
   "outputs": [],
   "source": [
    "show_plt(w, x_test, y_test)"
   ]
  },
  {
   "cell_type": "markdown",
   "id": "descending-survival",
   "metadata": {},
   "source": [
    "## Practice 3\n",
    "\n",
    "hyperplane이 구해지는 최소 epoch를 줄일 수 있도록 train_perceptron 코드를 수정하시오."
   ]
  },
  {
   "cell_type": "code",
   "execution_count": null,
   "id": "blond-channels",
   "metadata": {},
   "outputs": [],
   "source": [
    "# Todo: practice 3\n",
    "def train_perceptron(w, x, y, epoch=30):\n",
    "    \"\"\"\n",
    "    lr(learning rate)이라는 새로운 변수를 추가하였다.\n",
    "    misclassified sample이 나올 때마다 w를 업데이트하는 과정에서,\n",
    "    기존 (y[i] - y_pre) * x[i] 대신, 1 이상의 lr를 곱한 값을 업데이트해 줌으로써\n",
    "    w의 값이 최적값으로 더 빨리 수렴될 수 있도록 한다.\n",
    "    단, lr이 매우 커지게 되면 w의 값이 최적값에 도달하지 못하고 발산할 수 있으므로 주의해야 한다.\n",
    "    보통 learning rate은 (0,1) 사이의 값으로 설정하지만,\n",
    "    기존 learning rate를 사용하지 않은(learning rate=1) 알고리즘보다 더 빨리 수렴할 수 있도록\n",
    "    1보다 큰 값을 설정하였다.\n",
    "    \"\"\"\n",
    "    min_epoch = epoch\n",
    "    lr = 2  # lr(learning rate)에 2를 할당한다.\n",
    "    for n in range(epoch): # n은 0부터 시작이지만, epoch count는 1부터 시작\n",
    "        e = 0\n",
    "        for i in range(len(x)):\n",
    "            y_pre = 1 if np.dot(w, x[i]) >= 0 else 0\n",
    "            if y[i] != y_pre:  # misclassified sample에 대하여\n",
    "                w = w + lr * (y[i] - y_pre) * x[i]  # 기존 업데이트 값에 lr를 곱한 값을 업데이트\n",
    "                e += 1 # e count 1 증가 \n",
    "\n",
    "        if e == 0 and min_epoch > n:\n",
    "            # misclassified sample이 없었을 경우, 그 이전의 epoch을 min_epoch으로 설정 (이전의 epoch에서 최종 hyperplane이 구해졌기 때문)\n",
    "            # min_epoch > n 조건은 min_epoch이 할당된 이후, 남은 에폭에 대해 min_epoch이 업데이트 되는 것을 막기 위함\n",
    "            min_epoch = n\n",
    "    return w, min_epoch"
   ]
  },
  {
   "cell_type": "code",
   "execution_count": null,
   "id": "raising-beach",
   "metadata": {},
   "outputs": [],
   "source": [
    "import math\n",
    "\n",
    "EPSILON = 0.00001\n",
    "\n",
    "def trainperceptron_ans(w,x,y,epoch=30):\n",
    "    y2 = y+ np.ones(len(y)) * (y-1)\n",
    "    min_epoch = epoch\n",
    "    \n",
    "    for i in range(epoch):\n",
    "        # lr = 0.5\n",
    "        lr = 1 / math.sqrt(sum(y != (np.dot(x,w) > 0)) + EPSILON)\n",
    "        lr = np.min(np.array([1, lr])) # lr이 점점 증가하는 방법이 여기선 좋은 성능을 보임(delta error와 lr과의 상호관계에 의해서 학습의 양이 결정)\n",
    "        # lr = 1 / (sum(y!=(np.dot(x,w) > 0)) + EPSILON)\n",
    "        # lr = 0.005*math.sqrt(sum(y!=(np.dot(x,w) > 0)) + EPSILON)\n",
    "        if sum(y==(np.dot(w,x) > 0)) == len(y):\n",
    "            min_epoch = i+1\n",
    "            break\n",
    "        w+=np.dot(y2 * ((y2 * np.dot(x,w)) < 0), x)\n",
    "\n",
    "    return w, min_epoch"
   ]
  },
  {
   "cell_type": "code",
   "execution_count": null,
   "id": "guided-shoot",
   "metadata": {
    "scrolled": true
   },
   "outputs": [],
   "source": [
    "w = np.random.rand(len(x_train[0]))\n",
    "\n",
    "show_plt(w, x_train, y_train)"
   ]
  },
  {
   "cell_type": "code",
   "execution_count": null,
   "id": "incoming-capability",
   "metadata": {},
   "outputs": [],
   "source": [
    "w, min_epoch = train_perceptron(w, x_train, y_train)\n",
    "\n",
    "print(\"The weights are:\", w)\n",
    "\n",
    "# Do not change -->\n",
    "lab1_student_answer_w3 = w\n",
    "lab1_stduent_answer_min_epoch3 = min_epoch\n",
    "# <--\n",
    "show_plt(w, x_train, y_train)"
   ]
  },
  {
   "cell_type": "code",
   "execution_count": null,
   "id": "placed-workshop",
   "metadata": {},
   "outputs": [],
   "source": [
    "show_plt(w, x_test, y_test)"
   ]
  },
  {
   "cell_type": "markdown",
   "id": "resistant-estate",
   "metadata": {},
   "source": [
    "수고하셨습니다. \n",
    "\n",
    "조교메일: cvipsj@sogang.ac.kr"
   ]
  },
  {
   "cell_type": "markdown",
   "id": "regulation-authority",
   "metadata": {},
   "source": [
    "# 정답 확인용\n",
    "\n",
    "수정금지 - 조교"
   ]
  },
  {
   "cell_type": "code",
   "execution_count": null,
   "id": "vocal-mentor",
   "metadata": {},
   "outputs": [],
   "source": [
    "print(f'학번: {lab1_student_id}')\n",
    "print(f'이름: {lab1_student_name}')"
   ]
  },
  {
   "cell_type": "code",
   "execution_count": null,
   "id": "suspected-handbook",
   "metadata": {},
   "outputs": [],
   "source": [
    "print(\n",
    "    f'Answer of practice 1: {abs(sum(lab1_student_answer_w - [-4.179, -2.512, 3.055])) < 0.01}'\n",
    ")"
   ]
  },
  {
   "cell_type": "code",
   "execution_count": null,
   "id": "played-shoulder",
   "metadata": {},
   "outputs": [],
   "source": [
    "print(\n",
    "    f'Answer of practice 2: {abs(sum(lab1_student_answer_w2 - [-6.628, -4.476, 5.423])) < 0.01}'\n",
    ")\n",
    "print(f'Min epochs at practice 2: {lab1_stduent_answer_min_epoch}')"
   ]
  },
  {
   "cell_type": "code",
   "execution_count": null,
   "id": "featured-lewis",
   "metadata": {},
   "outputs": [],
   "source": [
    "print(f'Answer of practice 2: {lab1_student_answer_w3}')\n",
    "print(f'Min epochs at practice 2: {lab1_stduent_answer_min_epoch3}')"
   ]
  },
  {
   "cell_type": "code",
   "execution_count": null,
   "id": "respective-missile",
   "metadata": {},
   "outputs": [],
   "source": []
  }
 ],
 "metadata": {
  "kernelspec": {
   "display_name": "Python 3.8.8 64-bit ('ml': conda)",
   "name": "python388jvsc74a57bd0a46a7326da725c74d0abad1997cb2210958481e119d745833634a7937449cffa"
  },
  "language_info": {
   "codemirror_mode": {
    "name": "ipython",
    "version": 3
   },
   "file_extension": ".py",
   "mimetype": "text/x-python",
   "name": "python",
   "nbconvert_exporter": "python",
   "pygments_lexer": "ipython3",
   "version": "3.8.8"
  },
  "toc": {
   "base_numbering": 1,
   "nav_menu": {},
   "number_sections": true,
   "sideBar": true,
   "skip_h1_title": false,
   "title_cell": "Table of Contents",
   "title_sidebar": "Contents",
   "toc_cell": false,
   "toc_position": {},
   "toc_section_display": true,
   "toc_window_display": false
  }
 },
 "nbformat": 4,
 "nbformat_minor": 5
}
